{
  "nbformat": 4,
  "nbformat_minor": 0,
  "metadata": {
    "colab": {
      "name": "RNN-basics.ipynb",
      "provenance": []
    },
    "kernelspec": {
      "name": "python3",
      "display_name": "Python 3"
    }
  },
  "cells": [
    {
      "cell_type": "code",
      "metadata": {
        "id": "5bDZRqSmHJvf",
        "colab_type": "code",
        "colab": {
          "base_uri": "https://localhost:8080/",
          "height": 122
        },
        "outputId": "460a2a0c-9795-4175-bee9-45302389993c"
      },
      "source": [
        "import os\n",
        "from google.colab import drive\n",
        "drive.mount('/content/drive/')\n",
        "cwd=\"/content/drive/My Drive/Colab Notebooks\"\n",
        "os.chdir(cwd)"
      ],
      "execution_count": 1,
      "outputs": [
        {
          "output_type": "stream",
          "text": [
            "Go to this URL in a browser: https://accounts.google.com/o/oauth2/auth?client_id=947318989803-6bn6qk8qdgf4n4g3pfee6491hc0brc4i.apps.googleusercontent.com&redirect_uri=urn%3aietf%3awg%3aoauth%3a2.0%3aoob&response_type=code&scope=email%20https%3a%2f%2fwww.googleapis.com%2fauth%2fdocs.test%20https%3a%2f%2fwww.googleapis.com%2fauth%2fdrive%20https%3a%2f%2fwww.googleapis.com%2fauth%2fdrive.photos.readonly%20https%3a%2f%2fwww.googleapis.com%2fauth%2fpeopleapi.readonly\n",
            "\n",
            "Enter your authorization code:\n",
            "··········\n",
            "Mounted at /content/drive/\n"
          ],
          "name": "stdout"
        }
      ]
    },
    {
      "cell_type": "code",
      "metadata": {
        "id": "JK4lQrSOHWUX",
        "colab_type": "code",
        "colab": {}
      },
      "source": [
        "import torch\n",
        "import torch.nn as nn\n",
        "import torch.nn.functional as F\n",
        "import torch.optim as optim\n",
        "import random\n",
        "\n",
        "torch.manual_seed(1)\n",
        "random.seed(1)"
      ],
      "execution_count": 0,
      "outputs": []
    },
    {
      "cell_type": "code",
      "metadata": {
        "id": "6--Ojnh6Kaji",
        "colab_type": "code",
        "colab": {
          "base_uri": "https://localhost:8080/",
          "height": 102
        },
        "outputId": "c93262ea-b8e6-45ae-ee36-9e7341734ecb"
      },
      "source": [
        "#get inputs of any shape, gets outputs of a certain vector size, simple categorical classification \n",
        "class RNN(nn.Module):\n",
        "    def __init__(self, input_size, hidden_size, output_size, batch_size=1):\n",
        "        super(RNN, self).__init__()\n",
        "        self.hidden_size = hidden_size\n",
        "        self.batch_size = batch_size\n",
        "        self.lstm = nn.LSTM(input_size, hidden_size)      \n",
        "        self.hidden2out=nn.Linear(hidden_size,output_size)\n",
        "        self.out = nn.Linear(hidden_size, output_size)\n",
        "        self.hidden = self.init_hidden()\n",
        "        self.softmax = nn.LogSoftmax(dim=1) #new\n",
        "    def forward(self, x): #need to iterate over each item in the input tensor\n",
        "        lstm_out, self.hidden = self.lstm(x, self.hidden)\n",
        "        outs = self.out(lstm_out)\n",
        "        return outs\n",
        "    def init_hidden(self):\n",
        "        return (torch.zeros(1, self.batch_size, self.hidden_size),\n",
        "                torch.zeros(1, self.batch_size, self.hidden_size))\n",
        "        \n",
        "n_input=4\n",
        "n_hidden=16\n",
        "n_output=15\n",
        "rnn = RNN(n_input, n_hidden, n_output)\n",
        "loss_func = nn.MSELoss()\n",
        "LR=0.005\n",
        "optimizer = torch.optim.Adam(rnn.parameters(), lr=LR)   # optimize all cnn parameters\n",
        "rand_tensor = 0.2*torch.rand((3, 4))\n",
        "rnn.hidden = rnn.init_hidden()\n",
        "rnn.zero_grad()\n",
        "for i in range(len(rand_tensor)): #feed the network sequentially with the input tensors\n",
        "    cur_tensor=rand_tensor[i].view([1,1,n_input])\n",
        "    output = rnn(cur_tensor)\n",
        "print(\"input shape\", rand_tensor.shape)\n",
        "print(\"output shape\", output.shape)\n",
        "print(output)\n"
      ],
      "execution_count": 7,
      "outputs": [
        {
          "output_type": "stream",
          "text": [
            "input shape torch.Size([3, 4])\n",
            "output shape torch.Size([1, 1, 15])\n",
            "tensor([[[ 0.1337, -0.1304,  0.0239,  0.0808, -0.2139,  0.2093, -0.1822,\n",
            "           0.2311,  0.2087,  0.0130, -0.0808, -0.0930, -0.0859,  0.0850,\n",
            "           0.2494]]], grad_fn=<AddBackward0>)\n"
          ],
          "name": "stdout"
        }
      ]
    },
    {
      "cell_type": "code",
      "metadata": {
        "id": "yg9B-gLdLENY",
        "colab_type": "code",
        "colab": {
          "base_uri": "https://localhost:8080/",
          "height": 442
        },
        "outputId": "683adab8-dd22-4bcf-ea36-d4af21e16b08"
      },
      "source": [
        "#here the size of the output is the same as the size of the input\n",
        "#the depth of the output depends on the number of possible outcome categories (e.g. different phonemes)\n",
        "class RNN(nn.Module):\n",
        "\n",
        "    def __init__(self, input_size, hidden_size, output_depth,batch_size=1):\n",
        "        super(RNN, self).__init__()\n",
        "        self.hidden_size = hidden_size\n",
        "        self.batch_size=batch_size\n",
        "        self.lstm = nn.LSTM(input_size, hidden_size)\n",
        "\n",
        "        # The linear layer that maps from hidden state space to tag space\n",
        "        self.hidden2out = nn.Linear(hidden_size, output_depth)\n",
        "        self.hidden = self.init_hidden()\n",
        "\n",
        "    def forward(self, feature_list): #emeds are the list of features for each word in the sentece\n",
        "        #sent_size=len(embeds)\n",
        "        lstm_out, _ = self.lstm( feature_list.view(len( feature_list), 1, -1))\n",
        "        tag_space = self.hidden2out(lstm_out.view(len( feature_list), -1))\n",
        "        #print(tag_space.view([1,1,1]))\n",
        "        tag_scores = torch.sigmoid(tag_space)\n",
        "        #return tag_scores\n",
        "        return tag_space\n",
        "       \n",
        "    def init_hidden(self):\n",
        "        return (torch.zeros(1, self.batch_size, self.hidden_size),\n",
        "                torch.zeros(1, self.batch_size, self.hidden_size))  \n",
        "\n",
        "n_input=4\n",
        "n_hidden =16\n",
        "\n",
        "rnn = RNN(n_input, n_hidden, 5)\n",
        "line_tensor=torch.rand((10, 4))\n",
        "output = rnn(line_tensor)\n",
        "\n",
        "print(\"input shape\", line_tensor.shape)\n",
        "print(\"output shape\", output.shape)\n",
        "print(output)\n",
        "\n",
        "rnn = RNN(n_input, n_hidden, 1)\n",
        "line_tensor=torch.rand((10, 4))\n",
        "output = rnn(line_tensor)\n",
        "\n",
        "print(\"input shape\", line_tensor.shape)\n",
        "print(\"output shape\", output.shape)\n",
        "print(output)\n"
      ],
      "execution_count": 9,
      "outputs": [
        {
          "output_type": "stream",
          "text": [
            "input shape torch.Size([10, 4])\n",
            "output shape torch.Size([10, 5])\n",
            "tensor([[ 0.0625,  0.1629, -0.1579, -0.1976, -0.2189],\n",
            "        [ 0.0632,  0.1552, -0.1676, -0.2049, -0.2173],\n",
            "        [ 0.0469,  0.1697, -0.1351, -0.1956, -0.2334],\n",
            "        [ 0.0536,  0.1657, -0.1441, -0.1910, -0.2214],\n",
            "        [ 0.0481,  0.1689, -0.1473, -0.1953, -0.2241],\n",
            "        [ 0.0466,  0.1699, -0.1543, -0.2007, -0.2232],\n",
            "        [ 0.0497,  0.1720, -0.1714, -0.1925, -0.2045],\n",
            "        [ 0.0445,  0.1714, -0.1446, -0.1927, -0.2214],\n",
            "        [ 0.0505,  0.1681, -0.1604, -0.1955, -0.2151],\n",
            "        [ 0.0648,  0.1542, -0.1734, -0.2190, -0.2282]],\n",
            "       grad_fn=<AddmmBackward>)\n",
            "input shape torch.Size([10, 4])\n",
            "output shape torch.Size([10, 1])\n",
            "tensor([[0.3092],\n",
            "        [0.3284],\n",
            "        [0.3348],\n",
            "        [0.3444],\n",
            "        [0.3720],\n",
            "        [0.3787],\n",
            "        [0.3861],\n",
            "        [0.3820],\n",
            "        [0.3635],\n",
            "        [0.3592]], grad_fn=<AddmmBackward>)\n"
          ],
          "name": "stdout"
        }
      ]
    },
    {
      "cell_type": "code",
      "metadata": {
        "id": "j5RVJb4lMKPM",
        "colab_type": "code",
        "colab": {
          "base_uri": "https://localhost:8080/",
          "height": 34
        },
        "outputId": "635c7e1f-cb92-4ed8-ca34-9ead319fd9e0"
      },
      "source": [
        "#now we want to just do regression to get one value from a tensor\n",
        "\n",
        "class RNN(nn.Module):\n",
        "    def __init__(self, input_size, hidden_size, output_size, batch_size=1):\n",
        "        super(RNN, self).__init__()\n",
        "\n",
        "        self.hidden_size = hidden_size\n",
        "        self.batch_size = batch_size\n",
        "\n",
        "        self.lstm = nn.LSTM(input_size, hidden_size)      \n",
        "        #self.lstm.cuda(cuda0)  \n",
        "        self.hidden2out=nn.Linear(hidden_size,output_size)\n",
        "        self.out = nn.Linear(hidden_size, output_size)\n",
        "        self.hidden = self.init_hidden()\n",
        "        self.softmax = nn.LogSoftmax(dim=1) #new\n",
        "        \n",
        "    def forward(self, x):\n",
        "        #self.hidden\n",
        "        lstm_out, self.hidden = self.lstm(x, self.hidden)\n",
        "        outs = self.out(lstm_out)\n",
        "        #outs = self.softmax(outs)\n",
        "        return outs#, h_state\n",
        "\n",
        "\n",
        "    def init_hidden(self):\n",
        "        return (torch.zeros(1, self.batch_size, self.hidden_size),\n",
        "                torch.zeros(1, self.batch_size, self.hidden_size))\n",
        "\n",
        "n_input=4\n",
        "n_hidden = 16\n",
        "rnn = RNN(n_input, n_hidden, 1)\n",
        "rnn.hidden = rnn.init_hidden()\n",
        "rnn.zero_grad()\n",
        "line_tensor=torch.rand((10, 4))\n",
        "\n",
        "for i in range(line_tensor.size()[0]):\n",
        "  cur_tensor=line_tensor[i]#.view([(1, 1, 3)])\n",
        "  cur_tensor=cur_tensor.view([1,1,n_input])\n",
        "  output = rnn(cur_tensor)\n",
        "print(output)"
      ],
      "execution_count": 10,
      "outputs": [
        {
          "output_type": "stream",
          "text": [
            "tensor([[[0.0117]]], grad_fn=<AddBackward0>)\n"
          ],
          "name": "stdout"
        }
      ]
    },
    {
      "cell_type": "code",
      "metadata": {
        "id": "xx_tlbC7M5t1",
        "colab_type": "code",
        "colab": {}
      },
      "source": [
        ""
      ],
      "execution_count": 0,
      "outputs": []
    }
  ]
}