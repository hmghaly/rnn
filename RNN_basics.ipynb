{
  "nbformat": 4,
  "nbformat_minor": 0,
  "metadata": {
    "colab": {
      "name": "RNN-basics.ipynb",
      "provenance": [],
      "collapsed_sections": []
    },
    "kernelspec": {
      "name": "python3",
      "display_name": "Python 3"
    }
  },
  "cells": [
    {
      "cell_type": "code",
      "metadata": {
        "id": "5bDZRqSmHJvf",
        "colab_type": "code",
        "colab": {
          "base_uri": "https://localhost:8080/",
          "height": 122
        },
        "outputId": "460a2a0c-9795-4175-bee9-45302389993c"
      },
      "source": [
        "import os\n",
        "from google.colab import drive\n",
        "drive.mount('/content/drive/')\n",
        "cwd=\"/content/drive/My Drive/Colab Notebooks\"\n",
        "os.chdir(cwd)"
      ],
      "execution_count": 1,
      "outputs": [
        {
          "output_type": "stream",
          "text": [
            "Go to this URL in a browser: https://accounts.google.com/o/oauth2/auth?client_id=947318989803-6bn6qk8qdgf4n4g3pfee6491hc0brc4i.apps.googleusercontent.com&redirect_uri=urn%3aietf%3awg%3aoauth%3a2.0%3aoob&response_type=code&scope=email%20https%3a%2f%2fwww.googleapis.com%2fauth%2fdocs.test%20https%3a%2f%2fwww.googleapis.com%2fauth%2fdrive%20https%3a%2f%2fwww.googleapis.com%2fauth%2fdrive.photos.readonly%20https%3a%2f%2fwww.googleapis.com%2fauth%2fpeopleapi.readonly\n",
            "\n",
            "Enter your authorization code:\n",
            "··········\n",
            "Mounted at /content/drive/\n"
          ],
          "name": "stdout"
        }
      ]
    },
    {
      "cell_type": "code",
      "metadata": {
        "id": "JK4lQrSOHWUX",
        "colab_type": "code",
        "colab": {}
      },
      "source": [
        "import torch\n",
        "import torch.nn as nn\n",
        "import torch.nn.functional as F\n",
        "import torch.optim as optim\n",
        "import random\n",
        "\n",
        "torch.manual_seed(1)\n",
        "random.seed(1)"
      ],
      "execution_count": 0,
      "outputs": []
    },
    {
      "cell_type": "code",
      "metadata": {
        "id": "6--Ojnh6Kaji",
        "colab_type": "code",
        "colab": {
          "base_uri": "https://localhost:8080/",
          "height": 102
        },
        "outputId": "06e40b95-9b4b-48c1-97aa-449dd6425112"
      },
      "source": [
        "torch.manual_seed(1)\n",
        "random.seed(1)\n",
        "\n",
        "#get inputs of any shape, gets outputs of a certain vector size, simple categorical classification \n",
        "class RNN(nn.Module):\n",
        "    def __init__(self, input_size, hidden_size, output_size, batch_size=1):\n",
        "        super(RNN, self).__init__()\n",
        "        self.hidden_size = hidden_size\n",
        "        self.batch_size = batch_size\n",
        "        self.lstm = nn.LSTM(input_size, hidden_size)      \n",
        "        self.hidden2out=nn.Linear(hidden_size,output_size)\n",
        "        self.out = nn.Linear(hidden_size, output_size)\n",
        "        self.hidden = self.init_hidden()\n",
        "        self.softmax = nn.LogSoftmax(dim=1) #new\n",
        "    def forward(self, x): #need to iterate over each item in the input tensor\n",
        "        lstm_out, self.hidden = self.lstm(x, self.hidden)\n",
        "        outs = self.out(lstm_out)\n",
        "        return outs\n",
        "    def init_hidden(self):\n",
        "        return (torch.zeros(1, self.batch_size, self.hidden_size),\n",
        "                torch.zeros(1, self.batch_size, self.hidden_size))\n",
        "        \n",
        "n_input=4\n",
        "n_hidden=16\n",
        "n_output=15\n",
        "rnn = RNN(n_input, n_hidden, n_output)\n",
        "loss_func = nn.MSELoss()\n",
        "LR=0.005\n",
        "optimizer = torch.optim.Adam(rnn.parameters(), lr=LR)   # optimize all cnn parameters\n",
        "rand_tensor = 0.2*torch.rand((3, 4))\n",
        "rnn.hidden = rnn.init_hidden()\n",
        "rnn.zero_grad()\n",
        "for i in range(len(rand_tensor)): #feed the network sequentially with the input tensors\n",
        "    cur_tensor=rand_tensor[i].view([1,1,n_input])\n",
        "    output = rnn(cur_tensor)\n",
        "print(\"input shape\", rand_tensor.shape)\n",
        "print(\"output shape\", output.shape)\n",
        "print(output)\n"
      ],
      "execution_count": 11,
      "outputs": [
        {
          "output_type": "stream",
          "text": [
            "input shape torch.Size([3, 4])\n",
            "output shape torch.Size([1, 1, 15])\n",
            "tensor([[[-0.0327, -0.1762, -0.2155,  0.1499, -0.2015,  0.2665, -0.0605,\n",
            "          -0.1984, -0.1878,  0.2387, -0.2962,  0.0704,  0.1602,  0.1239,\n",
            "          -0.2588]]], grad_fn=<AddBackward0>)\n"
          ],
          "name": "stdout"
        }
      ]
    },
    {
      "cell_type": "code",
      "metadata": {
        "id": "yg9B-gLdLENY",
        "colab_type": "code",
        "colab": {
          "base_uri": "https://localhost:8080/",
          "height": 442
        },
        "outputId": "05a99685-d318-4358-aae2-36d33d74a3e6"
      },
      "source": [
        "#here the size of the output is the same as the size of the input\n",
        "#the depth of the output depends on the number of possible outcome categories (e.g. different phonemes)\n",
        "\n",
        "torch.manual_seed(1)\n",
        "random.seed(1)\n",
        "\n",
        "class RNN(nn.Module):\n",
        "\n",
        "    def __init__(self, input_size, hidden_size, output_depth,batch_size=1):\n",
        "        super(RNN, self).__init__()\n",
        "        self.hidden_size = hidden_size\n",
        "        self.batch_size=batch_size\n",
        "        self.lstm = nn.LSTM(input_size, hidden_size)\n",
        "\n",
        "        # The linear layer that maps from hidden state space to tag space\n",
        "        self.hidden2out = nn.Linear(hidden_size, output_depth)\n",
        "        self.hidden = self.init_hidden()\n",
        "\n",
        "    def forward(self, feature_list): #emeds are the list of features for each word in the sentece\n",
        "        #sent_size=len(embeds)\n",
        "        lstm_out, _ = self.lstm( feature_list.view(len( feature_list), 1, -1))\n",
        "        tag_space = self.hidden2out(lstm_out.view(len( feature_list), -1))\n",
        "        #print(tag_space.view([1,1,1]))\n",
        "        tag_scores = torch.sigmoid(tag_space)\n",
        "        #return tag_scores\n",
        "        return tag_space\n",
        "       \n",
        "    def init_hidden(self):\n",
        "        return (torch.zeros(1, self.batch_size, self.hidden_size),\n",
        "                torch.zeros(1, self.batch_size, self.hidden_size))  \n",
        "\n",
        "n_input=4\n",
        "n_hidden =16\n",
        "\n",
        "rnn = RNN(n_input, n_hidden, 5)\n",
        "line_tensor=torch.rand((10, 4))\n",
        "output = rnn(line_tensor)\n",
        "\n",
        "print(\"input shape\", line_tensor.shape)\n",
        "print(\"output shape\", output.shape)\n",
        "print(output)\n",
        "\n",
        "rnn = RNN(n_input, n_hidden, 1)\n",
        "line_tensor=torch.rand((10, 4))\n",
        "output = rnn(line_tensor)\n",
        "\n",
        "print(\"input shape\", line_tensor.shape)\n",
        "print(\"output shape\", output.shape)\n",
        "print(output)\n"
      ],
      "execution_count": 16,
      "outputs": [
        {
          "output_type": "stream",
          "text": [
            "input shape torch.Size([10, 4])\n",
            "output shape torch.Size([10, 5])\n",
            "tensor([[-0.1749,  0.1472,  0.1203,  0.1388, -0.0397],\n",
            "        [-0.1918,  0.1713,  0.1225,  0.1205, -0.0532],\n",
            "        [-0.1963,  0.1876,  0.1238,  0.1076, -0.0607],\n",
            "        [-0.2091,  0.1810,  0.1401,  0.1114, -0.0629],\n",
            "        [-0.2091,  0.1674,  0.1404,  0.1202, -0.0650],\n",
            "        [-0.2226,  0.2021,  0.1504,  0.0986, -0.0750],\n",
            "        [-0.2159,  0.1999,  0.1501,  0.1009, -0.0739],\n",
            "        [-0.2073,  0.1808,  0.1418,  0.1121, -0.0662],\n",
            "        [-0.2214,  0.1858,  0.1528,  0.1088, -0.0685],\n",
            "        [-0.2135,  0.1928,  0.1424,  0.1020, -0.0730]],\n",
            "       grad_fn=<AddmmBackward>)\n",
            "input shape torch.Size([10, 4])\n",
            "output shape torch.Size([10, 1])\n",
            "tensor([[-0.1060],\n",
            "        [-0.1050],\n",
            "        [-0.0985],\n",
            "        [-0.0989],\n",
            "        [-0.0933],\n",
            "        [-0.0899],\n",
            "        [-0.0833],\n",
            "        [-0.0829],\n",
            "        [-0.0923],\n",
            "        [-0.0943]], grad_fn=<AddmmBackward>)\n"
          ],
          "name": "stdout"
        }
      ]
    },
    {
      "cell_type": "code",
      "metadata": {
        "id": "j5RVJb4lMKPM",
        "colab_type": "code",
        "colab": {
          "base_uri": "https://localhost:8080/",
          "height": 34
        },
        "outputId": "681e0c9b-cc0d-46c8-f3e2-74317f154c9c"
      },
      "source": [
        "#now we want to just do regression to get one value from a tensor\n",
        "torch.manual_seed(1)\n",
        "random.seed(1)\n",
        "\n",
        "class RNN(nn.Module):\n",
        "    def __init__(self, input_size, hidden_size, output_size, batch_size=1):\n",
        "        super(RNN, self).__init__()\n",
        "\n",
        "        self.hidden_size = hidden_size\n",
        "        self.batch_size = batch_size\n",
        "\n",
        "        self.lstm = nn.LSTM(input_size, hidden_size)      \n",
        "        #self.lstm.cuda(cuda0)  \n",
        "        self.hidden2out=nn.Linear(hidden_size,output_size)\n",
        "        self.out = nn.Linear(hidden_size, output_size)\n",
        "        self.hidden = self.init_hidden()\n",
        "        self.softmax = nn.LogSoftmax(dim=1) #new\n",
        "        \n",
        "    def forward(self, x):\n",
        "        #self.hidden\n",
        "        lstm_out, self.hidden = self.lstm(x, self.hidden)\n",
        "        outs = self.out(lstm_out)\n",
        "        #outs = self.softmax(outs)\n",
        "        return outs#, h_state\n",
        "\n",
        "\n",
        "    def init_hidden(self):\n",
        "        return (torch.zeros(1, self.batch_size, self.hidden_size),\n",
        "                torch.zeros(1, self.batch_size, self.hidden_size))\n",
        "\n",
        "n_input=4\n",
        "n_hidden = 16\n",
        "rnn = RNN(n_input, n_hidden, 1)\n",
        "rnn.hidden = rnn.init_hidden()\n",
        "rnn.zero_grad()\n",
        "line_tensor=torch.rand((10, 4))\n",
        "\n",
        "for i in range(line_tensor.size()[0]):\n",
        "  cur_tensor=line_tensor[i]#.view([(1, 1, 3)])\n",
        "  cur_tensor=cur_tensor.view([1,1,n_input])\n",
        "  output = rnn(cur_tensor)\n",
        "print(output)"
      ],
      "execution_count": 13,
      "outputs": [
        {
          "output_type": "stream",
          "text": [
            "tensor([[[0.1352]]], grad_fn=<AddBackward0>)\n"
          ],
          "name": "stdout"
        }
      ]
    },
    {
      "cell_type": "code",
      "metadata": {
        "id": "xx_tlbC7M5t1",
        "colab_type": "code",
        "colab": {}
      },
      "source": [
        ""
      ],
      "execution_count": 0,
      "outputs": []
    }
  ]
}